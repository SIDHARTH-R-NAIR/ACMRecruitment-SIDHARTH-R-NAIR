{
 "cells": [
  {
   "cell_type": "code",
   "execution_count": null,
   "id": "f0ea185b",
   "metadata": {},
   "outputs": [
    {
     "name": "stdout",
     "output_type": "stream",
     "text": [
      "original string -> helllo\n",
      "reversed string -> ollleh\n"
     ]
    }
   ],
   "source": [
    "# iterative reversing\n",
    "\n",
    "a=input('enter the string:')\n",
    "b=''\n",
    "for i in range(len(a)-1,-1,-1):\n",
    "    b+=a[i]\n",
    "print('original string ->',a)\n",
    "print('reversed string ->',b)"
   ]
  },
  {
   "cell_type": "code",
   "execution_count": null,
   "id": "589b139f",
   "metadata": {},
   "outputs": [
    {
     "name": "stdout",
     "output_type": "stream",
     "text": [
      "original string -> hello\n",
      "reversed string -> olleh\n"
     ]
    }
   ],
   "source": [
    "# recursive reversing\n",
    "\n",
    "def reversing(a):\n",
    "    if len(a)<=1:\n",
    "        return a\n",
    "    return reversing(a[1:])+a[0]\n",
    "\n",
    "\n",
    "c=input(\"Enter the string to be reversed:\")\n",
    "print('original string ->',c)\n",
    "print('reversed string ->',reversing(c))"
   ]
  }
 ],
 "metadata": {
  "kernelspec": {
   "display_name": "Python 3",
   "language": "python",
   "name": "python3"
  },
  "language_info": {
   "codemirror_mode": {
    "name": "ipython",
    "version": 3
   },
   "file_extension": ".py",
   "mimetype": "text/x-python",
   "name": "python",
   "nbconvert_exporter": "python",
   "pygments_lexer": "ipython3",
   "version": "3.13.5"
  }
 },
 "nbformat": 4,
 "nbformat_minor": 5
}
