{
 "cells": [
  {
   "cell_type": "code",
   "execution_count": 12,
   "id": "741dc14a",
   "metadata": {},
   "outputs": [
    {
     "name": "stdout",
     "output_type": "stream",
     "text": [
      "original list -> [1, 2, 3, 4, 5]\n",
      "number of steps -> 2\n",
      "Array after rotation -> [3, 4, 5, 1, 2]\n"
     ]
    }
   ],
   "source": [
    "nums=list(map(int, input('Enter the numbers:').split()))\n",
    "k=int(input('enter the number of steps:'))\n",
    "\n",
    "\n",
    "print('original list ->',nums)\n",
    "print('number of steps ->',k)\n",
    "n=len(nums)\n",
    "k=k%n\n",
    "nums[:]=nums[k:]+nums[:k]\n",
    "print('Array after rotation ->',nums)"
   ]
  }
 ],
 "metadata": {
  "kernelspec": {
   "display_name": "Python 3",
   "language": "python",
   "name": "python3"
  },
  "language_info": {
   "codemirror_mode": {
    "name": "ipython",
    "version": 3
   },
   "file_extension": ".py",
   "mimetype": "text/x-python",
   "name": "python",
   "nbconvert_exporter": "python",
   "pygments_lexer": "ipython3",
   "version": "3.13.5"
  }
 },
 "nbformat": 4,
 "nbformat_minor": 5
}
