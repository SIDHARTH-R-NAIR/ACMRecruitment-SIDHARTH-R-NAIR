{
 "cells": [
  {
   "cell_type": "code",
   "execution_count": 1,
   "id": "b8177782",
   "metadata": {},
   "outputs": [
    {
     "name": "stdout",
     "output_type": "stream",
     "text": [
      "Final Output -> 15\n"
     ]
    }
   ],
   "source": [
    "# SCRIPT CODE\n",
    "A=5\n",
    "B=3\n",
    "SUM=0\n",
    "for i in range(1,B+1):\n",
    "    SUM+=A\n",
    "print('Final Output ->',SUM)"
   ]
  }
 ],
 "metadata": {
  "kernelspec": {
   "display_name": "Python 3",
   "language": "python",
   "name": "python3"
  },
  "language_info": {
   "codemirror_mode": {
    "name": "ipython",
    "version": 3
   },
   "file_extension": ".py",
   "mimetype": "text/x-python",
   "name": "python",
   "nbconvert_exporter": "python",
   "pygments_lexer": "ipython3",
   "version": "3.13.5"
  }
 },
 "nbformat": 4,
 "nbformat_minor": 5
}
