{
 "cells": [
  {
   "cell_type": "code",
   "execution_count": null,
   "id": "4d0b2689",
   "metadata": {},
   "outputs": [
    {
     "name": "stdout",
     "output_type": "stream",
     "text": [
      "original list is -> [5, 2, 9, 1, 5, 6]\n",
      "List after sorting is -> [1, 2, 5, 5, 6, 9]\n"
     ]
    }
   ],
   "source": [
    "# SORTING\n",
    "\n",
    "L=[5,2,9,1,5,6]\n",
    "print('original list is ->',L)\n",
    "n=len(L)\n",
    "for i in range(n):                      # checking through all list elements\n",
    "    for j in range(0,n-i-1):            # checking through the list elements from 0 to n-i-1\n",
    "        if L[j]>L[j+1]:                 # checks if the element found is greater than the next element\n",
    "                L[j],L[j+1]=L[j+1],L[j] # swaps their positions if the current element is greater than the next one\n",
    "print('List after sorting is ->',L)\n"
   ]
  }
 ],
 "metadata": {
  "kernelspec": {
   "display_name": "Python 3",
   "language": "python",
   "name": "python3"
  },
  "language_info": {
   "codemirror_mode": {
    "name": "ipython",
    "version": 3
   },
   "file_extension": ".py",
   "mimetype": "text/x-python",
   "name": "python",
   "nbconvert_exporter": "python",
   "pygments_lexer": "ipython3",
   "version": "3.13.5"
  }
 },
 "nbformat": 4,
 "nbformat_minor": 5
}
