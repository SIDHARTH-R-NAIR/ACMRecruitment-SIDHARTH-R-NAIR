{
 "cells": [
  {
   "cell_type": "code",
   "execution_count": 2,
   "id": "f0937dd5",
   "metadata": {},
   "outputs": [
    {
     "name": "stdout",
     "output_type": "stream",
     "text": [
      "233168\n"
     ]
    }
   ],
   "source": [
    "# PROBLEM 1-MULTIPLES OF 3 AND 5\n",
    "sum=0\n",
    "for i in range (1,1000):\n",
    "    if i%3==0 or i%5==0:\n",
    "        sum+=i\n",
    "print(sum)\n"
   ]
  },
  {
   "cell_type": "code",
   "execution_count": 3,
   "id": "b1dd9290",
   "metadata": {},
   "outputs": [
    {
     "name": "stdout",
     "output_type": "stream",
     "text": [
      "Sum of squares= 338350\n",
      "Square of sum= 25502500\n",
      "Difference= 25164150\n"
     ]
    }
   ],
   "source": [
    "# PROBLEM 6-SUM SQUARE DIFFERENCE \n",
    "a=0\n",
    "for i in range(1,101):\n",
    "    a+=(i*i)\n",
    "b=0\n",
    "for j in range(1,101):\n",
    "    b+=j\n",
    "b=b**2\n",
    "print('Sum of squares=',a)\n",
    "print('Square of sum=',b)\n",
    "print('Difference=',b-a)"
   ]
  }
 ],
 "metadata": {
  "kernelspec": {
   "display_name": "Python 3",
   "language": "python",
   "name": "python3"
  },
  "language_info": {
   "codemirror_mode": {
    "name": "ipython",
    "version": 3
   },
   "file_extension": ".py",
   "mimetype": "text/x-python",
   "name": "python",
   "nbconvert_exporter": "python",
   "pygments_lexer": "ipython3",
   "version": "3.13.5"
  }
 },
 "nbformat": 4,
 "nbformat_minor": 5
}
