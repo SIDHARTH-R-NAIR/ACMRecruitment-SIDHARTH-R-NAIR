{
 "cells": [
  {
   "cell_type": "code",
   "execution_count": null,
   "id": "8e41736f",
   "metadata": {},
   "outputs": [
    {
     "name": "stdout",
     "output_type": "stream",
     "text": [
      "noracecaryes\n",
      "Longest palindrome in the substring racecar\n"
     ]
    }
   ],
   "source": [
    "# LONGEST PALINDROME SUBSTRING\n",
    "def LP(x):\n",
    "    L=\"\"\n",
    "    for i in range(len(x)):\n",
    "        for j in range(i,len(x)):\n",
    "            subs=x[i:j+1]\n",
    "            if subs == subs[::-1]:\n",
    "                if len(subs)>len(L):\n",
    "                    L=subs\n",
    "    return L\n",
    "a=input('enter your string:')\n",
    "print(a)\n",
    "print('Longest palindrome in the substring ->',LP(a))"
   ]
  }
 ],
 "metadata": {
  "kernelspec": {
   "display_name": "Python 3",
   "language": "python",
   "name": "python3"
  },
  "language_info": {
   "codemirror_mode": {
    "name": "ipython",
    "version": 3
   },
   "file_extension": ".py",
   "mimetype": "text/x-python",
   "name": "python",
   "nbconvert_exporter": "python",
   "pygments_lexer": "ipython3",
   "version": "3.13.5"
  }
 },
 "nbformat": 4,
 "nbformat_minor": 5
}
