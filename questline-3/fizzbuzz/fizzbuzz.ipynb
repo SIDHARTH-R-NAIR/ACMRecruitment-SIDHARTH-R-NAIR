{
 "cells": [
  {
   "cell_type": "code",
   "execution_count": 7,
   "id": "a365e29b",
   "metadata": {},
   "outputs": [
    {
     "name": "stdout",
     "output_type": "stream",
     "text": [
      "1 -> 1\n",
      "2 -> 2\n",
      "3 -> Fizz\n",
      "4 -> 4\n",
      "5 -> Buzz\n",
      "6 -> Fizz\n",
      "7 -> 7\n",
      "8 -> 8\n",
      "9 -> Fizz\n",
      "10 -> Buzz\n",
      "11 -> 11\n",
      "12 -> Fizz\n",
      "13 -> 13\n",
      "14 -> 14\n",
      "15 -> FizzBuzz\n",
      "16 -> 16\n",
      "17 -> 17\n",
      "18 -> Fizz\n",
      "19 -> 19\n",
      "20 -> Buzz\n",
      "21 -> Fizz\n",
      "22 -> 22\n",
      "23 -> 23\n",
      "24 -> Fizz\n",
      "25 -> Buzz\n",
      "26 -> 26\n",
      "27 -> Fizz\n",
      "28 -> 28\n",
      "29 -> 29\n",
      "30 -> FizzBuzz\n",
      "31 -> 31\n",
      "32 -> 32\n",
      "33 -> Fizz\n",
      "34 -> 34\n",
      "35 -> Buzz\n",
      "36 -> Fizz\n",
      "37 -> 37\n",
      "38 -> 38\n",
      "39 -> Fizz\n",
      "40 -> Buzz\n",
      "41 -> 41\n",
      "42 -> Fizz\n",
      "43 -> 43\n",
      "44 -> 44\n",
      "45 -> FizzBuzz\n",
      "46 -> 46\n",
      "47 -> 47\n",
      "48 -> Fizz\n",
      "49 -> 49\n",
      "50 -> Buzz\n"
     ]
    }
   ],
   "source": [
    "#FIZZBUZZ PROGRAM\n",
    "for i in range (1,51):\n",
    "    if i%15==0:\n",
    "        print(i,'->','FizzBuzz')\n",
    "    elif i%3==0:\n",
    "        print(i,'->','Fizz')\n",
    "    elif i%5==0:\n",
    "        print(i,'->','Buzz')\n",
    "    else:\n",
    "        print(i,'->',i)"
   ]
  }
 ],
 "metadata": {
  "kernelspec": {
   "display_name": "Python 3",
   "language": "python",
   "name": "python3"
  },
  "language_info": {
   "codemirror_mode": {
    "name": "ipython",
    "version": 3
   },
   "file_extension": ".py",
   "mimetype": "text/x-python",
   "name": "python",
   "nbconvert_exporter": "python",
   "pygments_lexer": "ipython3",
   "version": "3.13.5"
  }
 },
 "nbformat": 4,
 "nbformat_minor": 5
}
