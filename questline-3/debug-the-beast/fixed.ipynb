{
 "cells": [
  {
   "cell_type": "code",
   "execution_count": 34,
   "id": "67c078db",
   "metadata": {},
   "outputs": [
    {
     "name": "stdout",
     "output_type": "stream",
     "text": [
      "Second largest: 46\n"
     ]
    }
   ],
   "source": [
    "# DEBUG - THE - BEAST\n",
    "#Program: Find the second largest number in a list\n",
    "\n",
    "def second_largest(arr):\n",
    "    largest = second = float('-inf')\n",
    "    for num in arr:\n",
    "        if num > largest:\n",
    "            second = largest\n",
    "            largest = num\n",
    "        elif num > second and num!=largest:\n",
    "            second = num\n",
    "    return second\n",
    "\n",
    "\n",
    "\n",
    "n = int(input(\"Enter number of elements: \"))\n",
    "arr = list(map(int, input(\"Enter numbers: \").split()))\n",
    "\n",
    "output=second_largest(arr)\n",
    "if len(arr)<2:\n",
    "    print('not enough elements')\n",
    "elif len(arr)!=n:\n",
    "    print('please enter the correct number of elements')\n",
    "elif output == float('-inf'):\n",
    "    print('Second largest value does not exist')\n",
    "else:\n",
    "    print(\"Second largest:\",output)"
   ]
  }
 ],
 "metadata": {
  "kernelspec": {
   "display_name": "Python 3",
   "language": "python",
   "name": "python3"
  },
  "language_info": {
   "codemirror_mode": {
    "name": "ipython",
    "version": 3
   },
   "file_extension": ".py",
   "mimetype": "text/x-python",
   "name": "python",
   "nbconvert_exporter": "python",
   "pygments_lexer": "ipython3",
   "version": "3.13.5"
  }
 },
 "nbformat": 4,
 "nbformat_minor": 5
}
