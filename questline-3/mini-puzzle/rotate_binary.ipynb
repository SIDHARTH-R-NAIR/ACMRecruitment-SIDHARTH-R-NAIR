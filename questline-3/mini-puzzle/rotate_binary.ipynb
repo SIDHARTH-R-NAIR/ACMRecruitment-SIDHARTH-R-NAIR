{
 "cells": [
  {
   "cell_type": "code",
   "execution_count": 7,
   "id": "0f7d2769",
   "metadata": {},
   "outputs": [
    {
     "name": "stdout",
     "output_type": "stream",
     "text": [
      "Original binary string -> 11010100\n",
      "number of steps -> 3\n",
      "Binary string after rotation -> 10100110, its decimal value -> 166\n"
     ]
    }
   ],
   "source": [
    "# MINI PUZZLE\n",
    "def BR():\n",
    "    B=input('enter the binary string:')\n",
    "    k=int(input('enter the number of steps:'))\n",
    "    print('Original binary string ->',B)\n",
    "    print('number of steps ->',k)\n",
    "    for x in B:\n",
    "        if x!='0' and x!='1':\n",
    "            print('invalid entry')\n",
    "            break\n",
    "        else:\n",
    "            n=len(B)\n",
    "            k=k%n\n",
    "            C=list(B)\n",
    "            C[:]=C[k:]+C[:k]\n",
    "            D=\"\".join(str(x) for x in C) \n",
    "    print('Binary string after rotation ->',D,end =', ')\n",
    "    E=int(D,2)\n",
    "    print('its decimal value ->',E)\n",
    "BR()\n",
    "\n",
    "\n"
   ]
  }
 ],
 "metadata": {
  "kernelspec": {
   "display_name": "Python 3",
   "language": "python",
   "name": "python3"
  },
  "language_info": {
   "codemirror_mode": {
    "name": "ipython",
    "version": 3
   },
   "file_extension": ".py",
   "mimetype": "text/x-python",
   "name": "python",
   "nbconvert_exporter": "python",
   "pygments_lexer": "ipython3",
   "version": "3.13.5"
  }
 },
 "nbformat": 4,
 "nbformat_minor": 5
}
