{
 "cells": [
  {
   "cell_type": "code",
   "execution_count": null,
   "id": "5f4fa0d5",
   "metadata": {},
   "outputs": [
    {
     "name": "stdout",
     "output_type": "stream",
     "text": [
      "the binary number of 45 is 101101\n",
      "the binary number of 51 is 110011\n",
      "both binary numbers are palindrome\n"
     ]
    }
   ],
   "source": [
    "# BINARY PALINDROME\n",
    "\n",
    "a=45\n",
    "b=51\n",
    "c=bin(a)[2:]  # '[2:]' was added to get rid of the '0b' which appears in the binary number\n",
    "d=bin(b)[2:]\n",
    "print('the binary number of',a,'is',c)\n",
    "print('the binary number of',b,'is',d)\n",
    "if str(c)==str(c)[::-1] and str(d)==str(d)[::-1]:\n",
    "    print('both binary numbers are palindrome')\n",
    "elif str(c)==str(c)[::-1] or str(d)==str(d)[::-1]:\n",
    "    print('one of the binary number is palindrome')\n",
    "else:\n",
    "    print('none of the binary numbers are palindrome')"
   ]
  }
 ],
 "metadata": {
  "kernelspec": {
   "display_name": "Python 3",
   "language": "python",
   "name": "python3"
  },
  "language_info": {
   "codemirror_mode": {
    "name": "ipython",
    "version": 3
   },
   "file_extension": ".py",
   "mimetype": "text/x-python",
   "name": "python",
   "nbconvert_exporter": "python",
   "pygments_lexer": "ipython3",
   "version": "3.13.5"
  }
 },
 "nbformat": 4,
 "nbformat_minor": 5
}
