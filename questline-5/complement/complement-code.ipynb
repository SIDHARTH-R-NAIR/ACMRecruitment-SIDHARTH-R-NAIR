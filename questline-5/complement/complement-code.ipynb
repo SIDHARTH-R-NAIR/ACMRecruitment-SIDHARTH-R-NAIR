{
 "cells": [
  {
   "cell_type": "code",
   "execution_count": 31,
   "id": "30106602",
   "metadata": {},
   "outputs": [
    {
     "name": "stdout",
     "output_type": "stream",
     "text": [
      "2's complement of -42 -> 11010110\n"
     ]
    }
   ],
   "source": [
    "num=42\n",
    "b=format(num,'08b')\n",
    "f=''\n",
    "for i in b:\n",
    "    for j in ['0','1']:\n",
    "        if i==j:\n",
    "            if j=='0':\n",
    "                f+='1'\n",
    "            else:\n",
    "                f+='0'\n",
    "c=int(f,2)\n",
    "c+=1\n",
    "print(\"2's complement of -42 ->\",format(c,'08b'))\n",
    " \n",
    "\n"
   ]
  }
 ],
 "metadata": {
  "kernelspec": {
   "display_name": "Python 3",
   "language": "python",
   "name": "python3"
  },
  "language_info": {
   "codemirror_mode": {
    "name": "ipython",
    "version": 3
   },
   "file_extension": ".py",
   "mimetype": "text/x-python",
   "name": "python",
   "nbconvert_exporter": "python",
   "pygments_lexer": "ipython3",
   "version": "3.13.5"
  }
 },
 "nbformat": 4,
 "nbformat_minor": 5
}
