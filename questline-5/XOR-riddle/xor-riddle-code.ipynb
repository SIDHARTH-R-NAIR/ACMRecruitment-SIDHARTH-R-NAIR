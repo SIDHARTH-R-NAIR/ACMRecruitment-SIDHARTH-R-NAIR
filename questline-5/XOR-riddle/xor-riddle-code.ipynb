{
 "cells": [
  {
   "cell_type": "code",
   "execution_count": 1,
   "id": "584a12ef",
   "metadata": {},
   "outputs": [
    {
     "name": "stdout",
     "output_type": "stream",
     "text": [
      "58\n",
      "verification complete\n"
     ]
    }
   ],
   "source": [
    "# XOR-RIDDLE CODE\n",
    "a=23\n",
    "b=45\n",
    "x=a^b\n",
    "print(x)\n",
    "c=x^a\n",
    "if c==b:\n",
    "    print('verification complete')"
   ]
  }
 ],
 "metadata": {
  "kernelspec": {
   "display_name": "Python 3",
   "language": "python",
   "name": "python3"
  },
  "language_info": {
   "codemirror_mode": {
    "name": "ipython",
    "version": 3
   },
   "file_extension": ".py",
   "mimetype": "text/x-python",
   "name": "python",
   "nbconvert_exporter": "python",
   "pygments_lexer": "ipython3",
   "version": "3.13.5"
  }
 },
 "nbformat": 4,
 "nbformat_minor": 5
}
